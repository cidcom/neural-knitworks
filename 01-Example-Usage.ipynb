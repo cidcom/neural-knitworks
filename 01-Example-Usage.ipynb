{
 "cells": [
  {
   "cell_type": "code",
   "execution_count": null,
   "id": "89c1d8ae",
   "metadata": {},
   "outputs": [],
   "source": [
    "%load_ext autoreload\n",
    "%autoreload 2\n",
    "%matplotlib inline"
   ]
  },
  {
   "cell_type": "code",
   "execution_count": null,
   "id": "cb250c6c",
   "metadata": {},
   "outputs": [],
   "source": [
    "import matplotlib.pyplot as plt\n",
    "from matplotlib import image\n",
    "plt.rcParams['figure.figsize'] = (10, 10) # set default size of plots\n",
    "plt.rcParams['image.cmap'] = 'gray'\n",
    "plt.rcParams['font.size'] = 16\n",
    "\n",
    "import torch\n",
    "import pytorch_lightning as pl\n",
    "import numpy as np\n",
    "from tqdm import tqdm\n",
    "import os\n",
    "from pathlib import Path\n",
    "\n",
    "from src import *\n",
    "from src.models.Tools.SuperResolver import *\n",
    "\n",
    "GLOBAL_TRAINER_SETTINGS = {\n",
    "    'check_val_every_n_epoch': 1,\n",
    "    'gpus': [0],\n",
    "    'checkpoint_callback': False\n",
    "}"
   ]
  },
  {
   "cell_type": "code",
   "execution_count": null,
   "id": "d9ec32ad",
   "metadata": {},
   "outputs": [],
   "source": [
    "filename = 'data/Set5/image_SRF_4/img_002_SRF_4_LR.png'\n",
    "\n",
    "img = image.imread(filename)"
   ]
  },
  {
   "cell_type": "code",
   "execution_count": null,
   "id": "2876df62",
   "metadata": {},
   "outputs": [],
   "source": [
    "plt.imshow(img)"
   ]
  },
  {
   "cell_type": "code",
   "execution_count": null,
   "id": "f43b35ab",
   "metadata": {},
   "outputs": [],
   "source": [
    "b = 40\n",
    "x_offset = 20\n",
    "y_offset = 20\n",
    "rgb_mask = np.ones(img.shape)\n",
    "rgb_mask[x_offset:x_offset+b,y_offset:y_offset+b,:] = np.zeros((b,b,3))\n",
    "\n",
    "masked_image = img*rgb_mask\n",
    "mask = rgb_mask[:,:,0]"
   ]
  },
  {
   "cell_type": "markdown",
   "id": "a0a0258d",
   "metadata": {},
   "source": [
    "## Use Case 1: Inpainting"
   ]
  },
  {
   "cell_type": "code",
   "execution_count": null,
   "id": "7bd104e5",
   "metadata": {},
   "outputs": [],
   "source": [
    "input = rgb_mask*img\n",
    "\n",
    "model = NeuralKnitwork(input,\n",
    "                       mask = mask,\n",
    "                       antialias = False,\n",
    "                       kno_coef = 1.0,\n",
    "                       nov_coef = 1.0,\n",
    "                       lr = 4e-3,\n",
    "                       epoch_steps = 1000\n",
    "                      )"
   ]
  },
  {
   "cell_type": "code",
   "execution_count": null,
   "id": "cf7eecc9",
   "metadata": {},
   "outputs": [],
   "source": [
    "num_epochs = 4\n",
    "\n",
    "trainer = pl.Trainer(\n",
    "    max_epochs = num_epochs,\n",
    "    **GLOBAL_TRAINER_SETTINGS\n",
    ")\n",
    "model.unfreeze()\n",
    "trainer.fit(model)"
   ]
  },
  {
   "cell_type": "code",
   "execution_count": null,
   "id": "e0b2c71b",
   "metadata": {},
   "outputs": [],
   "source": [
    "output = model.generate()\n",
    "\n",
    "plt.subplot(1,2,1)\n",
    "plt.imshow(input)\n",
    "plt.subplot(1,2,2)\n",
    "plt.imshow(output)"
   ]
  },
  {
   "cell_type": "markdown",
   "id": "3ae538d7",
   "metadata": {},
   "source": [
    "## Use Case 2: Super-Resolution"
   ]
  },
  {
   "cell_type": "code",
   "execution_count": null,
   "id": "a62bb763",
   "metadata": {},
   "outputs": [],
   "source": [
    "model = SuperResolver(img,\n",
    "                      upscale_factor = 2\n",
    "                     )"
   ]
  },
  {
   "cell_type": "code",
   "execution_count": null,
   "id": "538b59bf",
   "metadata": {},
   "outputs": [],
   "source": [
    "num_epochs = 4\n",
    "\n",
    "trainer = pl.Trainer(\n",
    "    max_epochs = num_epochs,\n",
    "    **GLOBAL_TRAINER_SETTINGS\n",
    ")\n",
    "model.unfreeze()\n",
    "trainer.fit(model)"
   ]
  },
  {
   "cell_type": "code",
   "execution_count": null,
   "id": "6cddb628",
   "metadata": {},
   "outputs": [],
   "source": [
    "output = model.generate()\n",
    "\n",
    "plt.subplot(1,2,1)\n",
    "plt.imshow(img)\n",
    "plt.subplot(1,2,2)\n",
    "plt.imshow(output)"
   ]
  },
  {
   "cell_type": "markdown",
   "id": "6fbf8610",
   "metadata": {},
   "source": [
    "## Use Case 3: Denoising"
   ]
  },
  {
   "cell_type": "code",
   "execution_count": null,
   "id": "a3d636c7",
   "metadata": {},
   "outputs": [],
   "source": [
    "input = img + 5e-2*np.random.randn(*img.shape)\n",
    "\n",
    "model = NeuralKnitwork(input,\n",
    "                       antialias = False\n",
    "                      )"
   ]
  },
  {
   "cell_type": "code",
   "execution_count": null,
   "id": "789a2961",
   "metadata": {},
   "outputs": [],
   "source": [
    "num_epochs = 4\n",
    "\n",
    "trainer = pl.Trainer(\n",
    "    max_epochs = num_epochs,\n",
    "    **GLOBAL_TRAINER_SETTINGS\n",
    ")\n",
    "trainer.fit(model)"
   ]
  },
  {
   "cell_type": "code",
   "execution_count": null,
   "id": "e4e10f20",
   "metadata": {},
   "outputs": [],
   "source": [
    "output = model.generate()\n",
    "\n",
    "plt.subplot(1,2,1)\n",
    "plt.imshow(input)\n",
    "plt.subplot(1,2,2)\n",
    "plt.imshow(output)"
   ]
  },
  {
   "cell_type": "code",
   "execution_count": null,
   "id": "67bae903",
   "metadata": {},
   "outputs": [],
   "source": []
  }
 ],
 "metadata": {
  "language_info": {
   "name": "python",
   "pygments_lexer": "ipython3"
  }
 },
 "nbformat": 4,
 "nbformat_minor": 5
}
